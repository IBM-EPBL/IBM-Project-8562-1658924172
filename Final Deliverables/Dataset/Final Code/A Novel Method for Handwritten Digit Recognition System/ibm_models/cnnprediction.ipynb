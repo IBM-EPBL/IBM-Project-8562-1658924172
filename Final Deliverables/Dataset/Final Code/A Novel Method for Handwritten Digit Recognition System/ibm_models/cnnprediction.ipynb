{
  "nbformat": 4,
  "nbformat_minor": 0,
  "metadata": {
    "colab": {
      "provenance": []
    },
    "kernelspec": {
      "name": "python3",
      "display_name": "Python 3"
    },
    "language_info": {
      "name": "python"
    }
  },
  "cells": [
    {
      "cell_type": "code",
      "execution_count": 3,
      "metadata": {
        "id": "p3AFmhpDkZIe"
      },
      "outputs": [],
      "source": [
        "from tensorflow.keras.models import load_model\n",
        "from keras.preprocessing import image\n",
        "from PIL import Image\n",
        "import numpy as np"
      ]
    },
    {
      "cell_type": "code",
      "source": [
        "model = load_model(\"mnistCNN.h5\")"
      ],
      "metadata": {
        "id": "lKsYamhwuWlk"
      },
      "execution_count": 4,
      "outputs": []
    },
    {
      "cell_type": "code",
      "source": [
        "img = Image.open(\"/content/mnist-dataset-6.png\").convert(\"L\") # convert image to monochrome\n",
        "img = img.resize( (28,28) ) # resizing of input image"
      ],
      "metadata": {
        "id": "DcPIl6T6uzm5"
      },
      "execution_count": 13,
      "outputs": []
    },
    {
      "cell_type": "code",
      "source": [
        "img"
      ],
      "metadata": {
        "colab": {
          "base_uri": "https://localhost:8080/",
          "height": 45
        },
        "id": "anzMiCuwu6f1",
        "outputId": "65b770a9-af7a-4cbe-b0f1-ca258c2bc562"
      },
      "execution_count": 14,
      "outputs": [
        {
          "output_type": "execute_result",
          "data": {
            "text/plain": [
              "<PIL.Image.Image image mode=L size=28x28 at 0x7FBC261EB190>"
            ],
            "image/png": "[encoded data removed]"
          },
          "metadata": {},
          "execution_count": 14
        }
      ]
    },
    {
      "cell_type": "code",
      "source": [
        "im2arr = np.array(img) #converting to image\n",
        "im2arr = im2arr.reshape(1, 28, 28, 1) #reshaping according to our requirement"
      ],
      "metadata": {
        "id": "VcvPtCYuu6md"
      },
      "execution_count": 15,
      "outputs": []
    },
    {
      "cell_type": "code",
      "source": [
        "pred = model.predict(im2arr)\n",
        "print(pred)"
      ],
      "metadata": {
        "colab": {
          "base_uri": "https://localhost:8080/"
        },
        "id": "SuJmjJmuu-Pg",
        "outputId": "2a612eb8-134b-44e2-f1e8-225d9d401433"
      },
      "execution_count": 16,
      "outputs": [
        {
          "output_type": "stream",
          "name": "stdout",
          "text": [
            "1/1 [==============================] - 0s 19ms/step\n",
            "[[8.6172047e-05 1.4960629e-12 2.8888483e-10 7.4490761e-12 4.8571081e-07\n",
            "  2.5200515e-08 9.9985266e-01 5.1594822e-15 3.9264697e-10 6.0674549e-05]]\n"
          ]
        }
      ]
    },
    {
      "cell_type": "code",
      "source": [
        "num = np.argmax(pred, axis=1) #printing our Labels\n",
        "print(num[0])"
      ],
      "metadata": {
        "colab": {
          "base_uri": "https://localhost:8080/"
        },
        "id": "hFmRfR9cu-en",
        "outputId": "cb0d503b-0843-4f0d-b6cb-94f332deb898"
      },
      "execution_count": 17,
      "outputs": [
        {
          "output_type": "stream",
          "name": "stdout",
          "text": [
            "6\n"
          ]
        }
      ]
    }
  ]
}